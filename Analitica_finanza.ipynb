{
 "cells": [
  {
   "cell_type": "code",
   "execution_count": 10,
   "metadata": {},
   "outputs": [],
   "source": [
    "# Librerias generales\n",
    "import pandas as pd\n",
    "import numpy as np\n",
    "import sqlite3 as sql ### para conectarse a BD\n",
    "from sklearn.impute import SimpleImputer\n",
    "import plotly.express as px\n",
    "\n",
    "\n",
    "# Librerias e visualización\n",
    "import seaborn as sns\n",
    "import matplotlib.pyplot as plt"
   ]
  },
  {
   "cell_type": "markdown",
   "metadata": {},
   "source": [
    "NOTA: SE CAMBIAN TODAS LAS FECHAS DESDE EL FORMATO DE EXCEL"
   ]
  },
  {
   "cell_type": "code",
   "execution_count": 11,
   "metadata": {},
   "outputs": [
    {
     "data": {
      "text/html": [
       "<div>\n",
       "<style scoped>\n",
       "    .dataframe tbody tr th:only-of-type {\n",
       "        vertical-align: middle;\n",
       "    }\n",
       "\n",
       "    .dataframe tbody tr th {\n",
       "        vertical-align: top;\n",
       "    }\n",
       "\n",
       "    .dataframe thead th {\n",
       "        text-align: right;\n",
       "    }\n",
       "</style>\n",
       "<table border=\"1\" class=\"dataframe\">\n",
       "  <thead>\n",
       "    <tr style=\"text-align: right;\">\n",
       "      <th></th>\n",
       "      <th>Asegurado_Id</th>\n",
       "      <th>Poliza_Id</th>\n",
       "      <th>FECHA_INICIO</th>\n",
       "      <th>FECHA_CANCELACION</th>\n",
       "      <th>FECHA_FIN</th>\n",
       "    </tr>\n",
       "  </thead>\n",
       "  <tbody>\n",
       "    <tr>\n",
       "      <th>0</th>\n",
       "      <td>1213170</td>\n",
       "      <td>113307876</td>\n",
       "      <td>1/09/2019</td>\n",
       "      <td>NaN</td>\n",
       "      <td>15/12/2019</td>\n",
       "    </tr>\n",
       "    <tr>\n",
       "      <th>1</th>\n",
       "      <td>22248110</td>\n",
       "      <td>195410143</td>\n",
       "      <td>1/09/2019</td>\n",
       "      <td>31/12/2019</td>\n",
       "      <td>31/12/2019</td>\n",
       "    </tr>\n",
       "    <tr>\n",
       "      <th>2</th>\n",
       "      <td>7212095</td>\n",
       "      <td>192799506</td>\n",
       "      <td>1/09/2019</td>\n",
       "      <td>31/12/2019</td>\n",
       "      <td>31/12/2019</td>\n",
       "    </tr>\n",
       "    <tr>\n",
       "      <th>3</th>\n",
       "      <td>23743715</td>\n",
       "      <td>145500123</td>\n",
       "      <td>1/09/2019</td>\n",
       "      <td>31/12/2019</td>\n",
       "      <td>31/12/2019</td>\n",
       "    </tr>\n",
       "    <tr>\n",
       "      <th>4</th>\n",
       "      <td>57822199</td>\n",
       "      <td>175415440</td>\n",
       "      <td>1/09/2019</td>\n",
       "      <td>31/12/2019</td>\n",
       "      <td>31/12/2019</td>\n",
       "    </tr>\n",
       "    <tr>\n",
       "      <th>5</th>\n",
       "      <td>39914668</td>\n",
       "      <td>204291309</td>\n",
       "      <td>1/12/2019</td>\n",
       "      <td>1/12/2019</td>\n",
       "      <td>1/12/2019</td>\n",
       "    </tr>\n",
       "    <tr>\n",
       "      <th>6</th>\n",
       "      <td>5514589</td>\n",
       "      <td>50872086</td>\n",
       "      <td>1/09/2019</td>\n",
       "      <td>NaN</td>\n",
       "      <td>31/12/2019</td>\n",
       "    </tr>\n",
       "    <tr>\n",
       "      <th>7</th>\n",
       "      <td>5757374</td>\n",
       "      <td>90964098</td>\n",
       "      <td>1/09/2019</td>\n",
       "      <td>NaN</td>\n",
       "      <td>31/12/2019</td>\n",
       "    </tr>\n",
       "    <tr>\n",
       "      <th>8</th>\n",
       "      <td>29767620</td>\n",
       "      <td>65844839</td>\n",
       "      <td>1/09/2019</td>\n",
       "      <td>NaN</td>\n",
       "      <td>31/12/2019</td>\n",
       "    </tr>\n",
       "    <tr>\n",
       "      <th>9</th>\n",
       "      <td>54772438</td>\n",
       "      <td>199065788</td>\n",
       "      <td>14/09/2019</td>\n",
       "      <td>NaN</td>\n",
       "      <td>31/12/2019</td>\n",
       "    </tr>\n",
       "  </tbody>\n",
       "</table>\n",
       "</div>"
      ],
      "text/plain": [
       "   Asegurado_Id  Poliza_Id FECHA_INICIO FECHA_CANCELACION   FECHA_FIN\n",
       "0       1213170  113307876    1/09/2019               NaN  15/12/2019\n",
       "1      22248110  195410143    1/09/2019        31/12/2019  31/12/2019\n",
       "2       7212095  192799506    1/09/2019        31/12/2019  31/12/2019\n",
       "3      23743715  145500123    1/09/2019        31/12/2019  31/12/2019\n",
       "4      57822199  175415440    1/09/2019        31/12/2019  31/12/2019\n",
       "5      39914668  204291309    1/12/2019         1/12/2019   1/12/2019\n",
       "6       5514589   50872086    1/09/2019               NaN  31/12/2019\n",
       "7       5757374   90964098    1/09/2019               NaN  31/12/2019\n",
       "8      29767620   65844839    1/09/2019               NaN  31/12/2019\n",
       "9      54772438  199065788   14/09/2019               NaN  31/12/2019"
      ]
     },
     "execution_count": 11,
     "metadata": {},
     "output_type": "execute_result"
    }
   ],
   "source": [
    "###Lectura base de cronicos\n",
    "df = pd.read_csv('BD_Asegurados_Expuestos.csv', sep = ';')\n",
    "df.head(10)"
   ]
  },
  {
   "cell_type": "code",
   "execution_count": 12,
   "metadata": {},
   "outputs": [
    {
     "name": "stderr",
     "output_type": "stream",
     "text": [
      "C:\\Users\\USUARIO\\AppData\\Local\\Temp\\ipykernel_4968\\4016433883.py:2: DtypeWarning: Columns (3) have mixed types. Specify dtype option on import or set low_memory=False.\n",
      "  df1 = pd.read_csv('BD_SocioDemograficas.csv', sep = ';')\n"
     ]
    },
    {
     "data": {
      "text/html": [
       "<div>\n",
       "<style scoped>\n",
       "    .dataframe tbody tr th:only-of-type {\n",
       "        vertical-align: middle;\n",
       "    }\n",
       "\n",
       "    .dataframe tbody tr th {\n",
       "        vertical-align: top;\n",
       "    }\n",
       "\n",
       "    .dataframe thead th {\n",
       "        text-align: right;\n",
       "    }\n",
       "</style>\n",
       "<table border=\"1\" class=\"dataframe\">\n",
       "  <thead>\n",
       "    <tr style=\"text-align: right;\">\n",
       "      <th></th>\n",
       "      <th>Afiliado_Id</th>\n",
       "      <th>Sexo_Cd</th>\n",
       "      <th>FechaNacimiento</th>\n",
       "      <th>Regional</th>\n",
       "      <th>CANCER</th>\n",
       "      <th>EPOC</th>\n",
       "      <th>DIABETES</th>\n",
       "      <th>HIPERTENSION</th>\n",
       "      <th>ENF_CARDIOVASCULAR</th>\n",
       "    </tr>\n",
       "  </thead>\n",
       "  <tbody>\n",
       "    <tr>\n",
       "      <th>0</th>\n",
       "      <td>738288</td>\n",
       "      <td>2</td>\n",
       "      <td>8/11/1976</td>\n",
       "      <td>40</td>\n",
       "      <td>0</td>\n",
       "      <td>0</td>\n",
       "      <td>0</td>\n",
       "      <td>0</td>\n",
       "      <td>0</td>\n",
       "    </tr>\n",
       "    <tr>\n",
       "      <th>1</th>\n",
       "      <td>738294</td>\n",
       "      <td>2</td>\n",
       "      <td>16/01/1964</td>\n",
       "      <td>50</td>\n",
       "      <td>0</td>\n",
       "      <td>0</td>\n",
       "      <td>0</td>\n",
       "      <td>0</td>\n",
       "      <td>0</td>\n",
       "    </tr>\n",
       "  </tbody>\n",
       "</table>\n",
       "</div>"
      ],
      "text/plain": [
       "   Afiliado_Id  Sexo_Cd FechaNacimiento Regional  CANCER  EPOC  DIABETES  \\\n",
       "0       738288        2       8/11/1976       40       0     0         0   \n",
       "1       738294        2      16/01/1964       50       0     0         0   \n",
       "\n",
       "   HIPERTENSION  ENF_CARDIOVASCULAR  \n",
       "0             0                   0  \n",
       "1             0                   0  "
      ]
     },
     "execution_count": 12,
     "metadata": {},
     "output_type": "execute_result"
    }
   ],
   "source": [
    "###Lectura base de cronicos\n",
    "df1 = pd.read_csv('BD_SocioDemograficas.csv', sep = ';')\n",
    "df1.head(2)"
   ]
  },
  {
   "cell_type": "code",
   "execution_count": 13,
   "metadata": {},
   "outputs": [
    {
     "data": {
      "text/html": [
       "<div>\n",
       "<style scoped>\n",
       "    .dataframe tbody tr th:only-of-type {\n",
       "        vertical-align: middle;\n",
       "    }\n",
       "\n",
       "    .dataframe tbody tr th {\n",
       "        vertical-align: top;\n",
       "    }\n",
       "\n",
       "    .dataframe thead th {\n",
       "        text-align: right;\n",
       "    }\n",
       "</style>\n",
       "<table border=\"1\" class=\"dataframe\">\n",
       "  <thead>\n",
       "    <tr style=\"text-align: right;\">\n",
       "      <th></th>\n",
       "      <th>Fecha_Reclamacion</th>\n",
       "      <th>Afiliado_Id</th>\n",
       "      <th>Reclamacion_Cd</th>\n",
       "      <th>Diagnostico_Codigo</th>\n",
       "      <th>Numero_Utilizaciones</th>\n",
       "      <th>Valor_Utilizaciones</th>\n",
       "    </tr>\n",
       "  </thead>\n",
       "  <tbody>\n",
       "    <tr>\n",
       "      <th>0</th>\n",
       "      <td>28/10/2019</td>\n",
       "      <td>2668445</td>\n",
       "      <td>R10</td>\n",
       "      <td>9</td>\n",
       "      <td>1</td>\n",
       "      <td>46500</td>\n",
       "    </tr>\n",
       "    <tr>\n",
       "      <th>1</th>\n",
       "      <td>30/09/2019</td>\n",
       "      <td>4370072</td>\n",
       "      <td>R15</td>\n",
       "      <td>9</td>\n",
       "      <td>2</td>\n",
       "      <td>42408</td>\n",
       "    </tr>\n",
       "  </tbody>\n",
       "</table>\n",
       "</div>"
      ],
      "text/plain": [
       "  Fecha_Reclamacion  Afiliado_Id Reclamacion_Cd Diagnostico_Codigo  \\\n",
       "0        28/10/2019      2668445            R10                  9   \n",
       "1        30/09/2019      4370072            R15                  9   \n",
       "\n",
       "   Numero_Utilizaciones  Valor_Utilizaciones  \n",
       "0                     1                46500  \n",
       "1                     2                42408  "
      ]
     },
     "execution_count": 13,
     "metadata": {},
     "output_type": "execute_result"
    }
   ],
   "source": [
    "###Lectura base de cronicos\n",
    "df2 = pd.read_csv('BD_UtilizacionesMedicas.csv', sep = ';')\n",
    "df2.head(2)"
   ]
  },
  {
   "cell_type": "code",
   "execution_count": 14,
   "metadata": {},
   "outputs": [
    {
     "name": "stdout",
     "output_type": "stream",
     "text": [
      "<class 'pandas.core.frame.DataFrame'>\n",
      "RangeIndex: 231520 entries, 0 to 231519\n",
      "Data columns (total 5 columns):\n",
      " #   Column             Non-Null Count   Dtype \n",
      "---  ------             --------------   ----- \n",
      " 0   Asegurado_Id       231520 non-null  int64 \n",
      " 1   Poliza_Id          231520 non-null  int64 \n",
      " 2   FECHA_INICIO       231520 non-null  object\n",
      " 3   FECHA_CANCELACION  104808 non-null  object\n",
      " 4   FECHA_FIN          231520 non-null  object\n",
      "dtypes: int64(2), object(3)\n",
      "memory usage: 8.8+ MB\n"
     ]
    }
   ],
   "source": [
    "df.info()"
   ]
  },
  {
   "cell_type": "code",
   "execution_count": 15,
   "metadata": {},
   "outputs": [
    {
     "name": "stdout",
     "output_type": "stream",
     "text": [
      "<class 'pandas.core.frame.DataFrame'>\n",
      "RangeIndex: 225776 entries, 0 to 225775\n",
      "Data columns (total 9 columns):\n",
      " #   Column              Non-Null Count   Dtype \n",
      "---  ------              --------------   ----- \n",
      " 0   Afiliado_Id         225776 non-null  int64 \n",
      " 1   Sexo_Cd             225776 non-null  int64 \n",
      " 2   FechaNacimiento     225776 non-null  object\n",
      " 3   Regional            225776 non-null  object\n",
      " 4   CANCER              225776 non-null  int64 \n",
      " 5   EPOC                225776 non-null  int64 \n",
      " 6   DIABETES            225776 non-null  int64 \n",
      " 7   HIPERTENSION        225776 non-null  int64 \n",
      " 8   ENF_CARDIOVASCULAR  225776 non-null  int64 \n",
      "dtypes: int64(7), object(2)\n",
      "memory usage: 15.5+ MB\n"
     ]
    }
   ],
   "source": [
    "df1.info()"
   ]
  },
  {
   "cell_type": "code",
   "execution_count": 16,
   "metadata": {},
   "outputs": [
    {
     "name": "stdout",
     "output_type": "stream",
     "text": [
      "<class 'pandas.core.frame.DataFrame'>\n",
      "RangeIndex: 800232 entries, 0 to 800231\n",
      "Data columns (total 6 columns):\n",
      " #   Column                Non-Null Count   Dtype \n",
      "---  ------                --------------   ----- \n",
      " 0   Fecha_Reclamacion     800232 non-null  object\n",
      " 1   Afiliado_Id           800232 non-null  int64 \n",
      " 2   Reclamacion_Cd        800232 non-null  object\n",
      " 3   Diagnostico_Codigo    800232 non-null  object\n",
      " 4   Numero_Utilizaciones  800232 non-null  int64 \n",
      " 5   Valor_Utilizaciones   800232 non-null  int64 \n",
      "dtypes: int64(3), object(3)\n",
      "memory usage: 36.6+ MB\n"
     ]
    }
   ],
   "source": [
    "df2.info()"
   ]
  },
  {
   "cell_type": "code",
   "execution_count": 17,
   "metadata": {},
   "outputs": [
    {
     "data": {
      "text/plain": [
       "Asegurado_Id              0\n",
       "Poliza_Id                 0\n",
       "FECHA_INICIO              0\n",
       "FECHA_CANCELACION    126712\n",
       "FECHA_FIN                 0\n",
       "dtype: int64"
      ]
     },
     "execution_count": 17,
     "metadata": {},
     "output_type": "execute_result"
    }
   ],
   "source": [
    "df.isnull().sum()"
   ]
  },
  {
   "cell_type": "code",
   "execution_count": 18,
   "metadata": {},
   "outputs": [
    {
     "data": {
      "text/plain": [
       "Afiliado_Id           0\n",
       "Sexo_Cd               0\n",
       "FechaNacimiento       0\n",
       "Regional              0\n",
       "CANCER                0\n",
       "EPOC                  0\n",
       "DIABETES              0\n",
       "HIPERTENSION          0\n",
       "ENF_CARDIOVASCULAR    0\n",
       "dtype: int64"
      ]
     },
     "execution_count": 18,
     "metadata": {},
     "output_type": "execute_result"
    }
   ],
   "source": [
    "df1.isnull().sum()"
   ]
  },
  {
   "cell_type": "code",
   "execution_count": 19,
   "metadata": {},
   "outputs": [
    {
     "data": {
      "text/plain": [
       "Fecha_Reclamacion       0\n",
       "Afiliado_Id             0\n",
       "Reclamacion_Cd          0\n",
       "Diagnostico_Codigo      0\n",
       "Numero_Utilizaciones    0\n",
       "Valor_Utilizaciones     0\n",
       "dtype: int64"
      ]
     },
     "execution_count": 19,
     "metadata": {},
     "output_type": "execute_result"
    }
   ],
   "source": [
    "df2.isnull().sum()"
   ]
  },
  {
   "cell_type": "code",
   "execution_count": 24,
   "metadata": {},
   "outputs": [],
   "source": [
    "## Se transforman todas las fechas a formato fecha\n",
    "df['FECHA_INICIO'] = pd.to_datetime(df['FECHA_INICIO'])\n",
    "df['FECHA_CANCELACION'] = pd.to_datetime(df['FECHA_CANCELACION'])\n",
    "df['FECHA_FIN'] = pd.to_datetime(df['FECHA_FIN'])\n",
    "df1['FechaNacimiento'] = pd.to_datetime(df1['FechaNacimiento'])\n",
    "df2['Fecha_Reclamacion'] = pd.to_datetime(df2['Fecha_Reclamacion'])"
   ]
  },
  {
   "cell_type": "code",
   "execution_count": null,
   "metadata": {},
   "outputs": [],
   "source": []
  }
 ],
 "metadata": {
  "kernelspec": {
   "display_name": "Python 3",
   "language": "python",
   "name": "python3"
  },
  "language_info": {
   "codemirror_mode": {
    "name": "ipython",
    "version": 3
   },
   "file_extension": ".py",
   "mimetype": "text/x-python",
   "name": "python",
   "nbconvert_exporter": "python",
   "pygments_lexer": "ipython3",
   "version": "3.9.13"
  }
 },
 "nbformat": 4,
 "nbformat_minor": 2
}
